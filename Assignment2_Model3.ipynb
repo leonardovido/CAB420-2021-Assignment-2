{
 "metadata": {
  "language_info": {
   "codemirror_mode": {
    "name": "ipython",
    "version": 3
   },
   "file_extension": ".py",
   "mimetype": "text/x-python",
   "name": "python",
   "nbconvert_exporter": "python",
   "pygments_lexer": "ipython3",
   "version": "3.8.5"
  },
  "orig_nbformat": 2,
  "kernelspec": {
   "name": "python385jvsc74a57bd053291768ef21509e8b2dad05eff3707224b491427dcde8364fbf026f16b69da6",
   "display_name": "Python 3.8.5 64-bit ('CAB420-env': venv)"
  }
 },
 "nbformat": 4,
 "nbformat_minor": 2,
 "cells": [
  {
   "cell_type": "code",
   "execution_count": 1,
   "metadata": {},
   "outputs": [
    {
     "output_type": "display_data",
     "data": {
      "text/plain": "<IPython.core.display.HTML object>",
      "text/html": "<style> table { display: inline-block } </style>\n"
     },
     "metadata": {}
    }
   ],
   "source": [
    "%%html\n",
    "<style> table { display: inline-block } </style>"
   ]
  },
  {
   "source": [
    "# CAB420 Assigment 2 - Model 3\n",
    "\n",
    "| Name   | Student Number |\n",
    "| :---   | :--- |\n",
    "| Charmi Raval       | N                  |\n",
    "| Leonardo Villamil  | N10411526          |\n",
    "| Litian Chen        | N9646922           |\n",
    "| Tace Stewart       | N                  |"
   ],
   "cell_type": "markdown",
   "metadata": {}
  },
  {
   "cell_type": "code",
   "execution_count": 2,
   "metadata": {},
   "outputs": [],
   "source": [
    "import pandas as pd\n",
    "import numpy as np\n",
    "import matplotlib.pyplot as plt\n",
    "import os\n",
    "\n",
    "from sklearn.model_selection import train_test_split"
   ]
  },
  {
   "source": [
    "## Load Data"
   ],
   "cell_type": "markdown",
   "metadata": {}
  },
  {
   "cell_type": "code",
   "execution_count": 4,
   "metadata": {},
   "outputs": [],
   "source": [
    "# Load data\n",
    "train = pd.read_csv ('Data/training.csv')\n",
    "validation = pd.read_csv ('Data/validation.csv')\n",
    "test = pd.read_csv ('Data/testing.csv')"
   ]
  },
  {
   "cell_type": "code",
   "execution_count": 10,
   "metadata": {},
   "outputs": [],
   "source": [
    "# Split path, features and label\n",
    "\n",
    "X_train = train.drop(['filename', 'accent'], axis=1)\n",
    "path_train = train['filename'].to_numpy()\n",
    "y_train = train['accent'].to_numpy()\n",
    "\n",
    "X_val = validation.drop(['filename', 'accent'], axis=1)\n",
    "path_val = validation['filename'].to_numpy()\n",
    "y_val = validation['accent'].to_numpy()\n",
    "\n",
    "X_test = test.drop(['filename', 'accent'], axis=1)\n",
    "path_test = test['filename'].to_numpy()\n",
    "y_test = test['accent'].to_numpy()"
   ]
  },
  {
   "cell_type": "code",
   "execution_count": null,
   "metadata": {},
   "outputs": [],
   "source": []
  }
 ]
}