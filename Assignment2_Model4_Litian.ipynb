{
 "metadata": {
  "language_info": {
   "codemirror_mode": {
    "name": "ipython",
    "version": 3
   },
   "file_extension": ".py",
   "mimetype": "text/x-python",
   "name": "python",
   "nbconvert_exporter": "python",
   "pygments_lexer": "ipython3",
   "version": "3.8.5"
  },
  "orig_nbformat": 2,
  "kernelspec": {
   "name": "python385jvsc74a57bd053291768ef21509e8b2dad05eff3707224b491427dcde8364fbf026f16b69da6",
   "display_name": "Python 3.8.5 64-bit ('CAB420-env': venv)"
  }
 },
 "nbformat": 4,
 "nbformat_minor": 2,
 "cells": [
  {
   "cell_type": "code",
   "execution_count": null,
   "metadata": {},
   "outputs": [],
   "source": [
    "%%html\n",
    "<style> table { display: inline-block } </style>"
   ]
  },
  {
   "source": [
    "# CAB420 Assigment 2 - Model 4 - Litian\n",
    "\n",
    "| Name   | Student Number |\n",
    "| :---   | :--- |\n",
    "| Charmi Raval       | N10510702          |\n",
    "| Leonardo Villamil  | N10411526          |\n",
    "| Litian Chen        | N9646922           |\n",
    "| Tace Stewart       | N9654411           |"
   ],
   "cell_type": "markdown",
   "metadata": {}
  },
  {
   "cell_type": "code",
   "execution_count": null,
   "metadata": {},
   "outputs": [],
   "source": [
    "import pandas as pd\n",
    "import numpy as np\n",
    "import matplotlib.pyplot as plt\n",
    "import os\n",
    "import cv2\n",
    "import visualkeras\n",
    "\n",
    "from sklearn.utils import class_weight\n",
    "from sklearn import preprocessing\n",
    "from tensorflow.keras.preprocessing.image import ImageDataGenerator\n",
    "from tensorflow.keras.layers import Input, Dense, Conv2D, MaxPooling2D, concatenate, BatchNormalization, SpatialDropout2D, Activation, Flatten, AveragePooling2D, Dropout\n",
    "from tensorflow.keras.models import Model\n",
    "from sklearn.utils import class_weight\n",
    "from tensorflow import keras\n",
    "from tensorflow.keras import layers\n",
    "from tensorflow.keras.utils import plot_model\n",
    "from tensorflow.keras.models import load_model\n",
    "from sklearn.metrics import classification_report, confusion_matrix, ConfusionMatrixDisplay\n",
    "from tensorflow.keras.applications import ResNet50"
   ]
  },
  {
   "source": [
    "## Load Data"
   ],
   "cell_type": "markdown",
   "metadata": {}
  },
  {
   "cell_type": "code",
   "execution_count": null,
   "metadata": {},
   "outputs": [],
   "source": [
    "# Load data\n",
    "train = pd.read_csv ('Data/training.csv')\n",
    "validation = pd.read_csv ('Data/validation.csv')\n",
    "test = pd.read_csv ('Data/testing.csv')"
   ]
  },
  {
   "cell_type": "code",
   "execution_count": null,
   "metadata": {},
   "outputs": [],
   "source": [
    "# Split filename, features and label\n",
    "\n",
    "X_train = train.drop(['filename', 'accent'], axis=1)\n",
    "path_train = train['filename'].to_numpy()\n",
    "y_train = train['accent'].to_numpy()\n",
    "\n",
    "X_val = validation.drop(['filename', 'accent'], axis=1)\n",
    "path_val = validation['filename'].to_numpy()\n",
    "y_val = validation['accent'].to_numpy()\n",
    "\n",
    "X_test = test.drop(['filename', 'accent'], axis=1)\n",
    "path_test = test['filename'].to_numpy()\n",
    "y_test = test['accent'].to_numpy()"
   ]
  },
  {
   "cell_type": "code",
   "execution_count": null,
   "metadata": {},
   "outputs": [],
   "source": [
    "# Encode strings into class numbers\n",
    "labels = np.unique(y_train)\n",
    "\n",
    "encoder = preprocessing.LabelEncoder()\n",
    "encoder.fit(y_train)\n",
    "\n",
    "y_train = encoder.transform(y_train)\n",
    "y_val = encoder.transform(y_val)\n",
    "y_test = encoder.transform(y_test)"
   ]
  },
  {
   "cell_type": "code",
   "execution_count": null,
   "metadata": {},
   "outputs": [],
   "source": [
    "# Calculation of class weights\n",
    "class_weights = class_weight.compute_class_weight('balanced', np.unique(y_train), y_train)\n",
    "\n",
    "for i in range(17):\n",
    "    print('%s - class %s - weight %s\\n' %(labels[i], (str(np.unique(y_train)[i])), str(class_weights[i])))"
   ]
  },
  {
   "cell_type": "code",
   "execution_count": null,
   "metadata": {},
   "outputs": [],
   "source": [
    "datagen = ImageDataGenerator()\n",
    "\n",
    "# load and iterate training dataset\n",
    "train_it = datagen.flow_from_directory('Data/spectograms/train/',\n",
    "                                       target_size=(224, 224),\n",
    "                                       classes=['0','1','2','3','4','5','6','7','8','9','10','11','12','13','14','15','16'],\n",
    "                                       class_mode='categorical', batch_size=64, seed=1)\n",
    "\n",
    "# load and iterate validation dataset\n",
    "val_it = datagen.flow_from_directory('Data/spectograms/validation/',\n",
    "                                     target_size=(224, 224),\n",
    "                                     classes=['0','1','2','3','4','5','6','7','8','9','10','11','12','13','14','15','16'], \n",
    "                                     class_mode='categorical', batch_size=64, seed=1)\n",
    "\n",
    "# load and iterate test dataset\n",
    "test_it = datagen.flow_from_directory('Data/spectograms/test/',\n",
    "                                      target_size=(224, 224),\n",
    "                                      classes=['0','1','2','3','4','5','6','7','8','9','10','11','12','13','14','15','16'],\n",
    "                                      class_mode='categorical', batch_size=1,\n",
    "                                      shuffle=False)"
   ]
  },
  {
   "source": [
    "## Fine-tuning "
   ],
   "cell_type": "markdown",
   "metadata": {}
  },
  {
   "cell_type": "code",
   "execution_count": null,
   "metadata": {},
   "outputs": [],
   "source": [
    "def eval_model(prediction, test_it, labels, history):\n",
    "    test_it.reset()\n",
    "    print('Classification Report\\n')\n",
    "    print(classification_report(test_it.classes, prediction))\n",
    "\n",
    "    test_it.reset()\n",
    "    print('Confusion Matrix')\n",
    "    cm = confusion_matrix(test_it.classes, prediction, normalize='true')\n",
    "    fig = plt.figure(figsize=[20, 20])\n",
    "    ax = fig.add_subplot(1, 1, 1)\n",
    "    c = ConfusionMatrixDisplay(cm, display_labels=labels)\n",
    "    c.plot(ax = ax);\n",
    "\n",
    "    fig = plt.figure(figsize=[12, 4])\n",
    "    ax = fig.add_subplot(1, 2, 1)\n",
    "    ax.plot(history.history['loss'], label=\"Training Loss\")\n",
    "    ax.plot(history.history['val_loss'], label=\"Validation Loss\")\n",
    "    ax.legend()\n",
    "\n",
    "    ax = fig.add_subplot(1, 2, 2)\n",
    "    ax.plot(history.history['accuracy'], label=\"Training Accuracy\")\n",
    "    ax.plot(history.history['val_accuracy'], label=\"Validation Accuracy\")\n",
    "    ax.legend();\n",
    "\n",
    "    fig = plt.figure(figsize=[12, 4])\n",
    "    ax = fig.add_subplot(1, 2, 1)\n",
    "    ax.plot(history.history['precision'], label=\"Training Precision\")\n",
    "    ax.plot(history.history['val_precision'], label=\"Validation Precision\")\n",
    "    ax.legend()\n",
    "\n",
    "    ax = fig.add_subplot(1, 2, 2)\n",
    "    ax.plot(history.history['recall'], label=\"Training Recall\")\n",
    "    ax.plot(history.history['val_recall'], label=\"Validation Recall\")\n",
    "    ax.legend();"
   ]
  },
  {
   "cell_type": "code",
   "execution_count": null,
   "metadata": {
    "tags": [
     "outputPrepend"
    ]
   },
   "outputs": [],
   "source": [
    "ResNet = ResNet50()\n",
    "print(ResNet.summary())\n",
    "plot_model(ResNet, show_shapes=True)"
   ]
  },
  {
   "cell_type": "code",
   "execution_count": null,
   "metadata": {},
   "outputs": [],
   "source": [
    "visualkeras.layered_view(ResNet, legend=True)"
   ]
  },
  {
   "cell_type": "code",
   "execution_count": null,
   "metadata": {
    "tags": [
     "outputPrepend"
    ]
   },
   "outputs": [],
   "source": [
    "baseModel = ResNet50(weights=\"imagenet\", include_top=False, input_shape=(224, 224, 3))\n",
    "print(baseModel.summary())"
   ]
  },
  {
   "cell_type": "code",
   "execution_count": null,
   "metadata": {
    "tags": [
     "outputPrepend"
    ]
   },
   "outputs": [],
   "source": [
    "headModel = baseModel.output\n",
    "headModel = AveragePooling2D(pool_size=(7, 7))(headModel)\n",
    "headModel = Flatten(name=\"flatten\")(headModel)\n",
    "headModel = Dense(256, activation=\"relu\")(headModel)\n",
    "headModel = Dropout(0.5)(headModel)\n",
    "headModel = Dense(17, activation=\"softmax\")(headModel)\n",
    "\n",
    "cnn_model3_litian = Model(inputs=baseModel.input, outputs=headModel, name='cnn_model3')\n",
    "print(cnn_model3_litian.summary())"
   ]
  },
  {
   "cell_type": "code",
   "execution_count": null,
   "metadata": {},
   "outputs": [],
   "source": [
    "# Freeze the base model layers\n",
    "for layer in baseModel.layers:\n",
    "\tlayer.trainable = False"
   ]
  },
  {
   "cell_type": "code",
   "execution_count": null,
   "metadata": {},
   "outputs": [],
   "source": [
    "cnn_model3_litian.compile(optimizer=keras.optimizers.Adam(),\n",
    "                   loss='categorical_crossentropy',\n",
    "                   loss_weights=class_weights,\n",
    "                   metrics=['accuracy', keras.metrics.Precision(name='precision'), keras.metrics.Recall(name='recall')])"
   ]
  },
  {
   "cell_type": "code",
   "execution_count": null,
   "metadata": {},
   "outputs": [],
   "source": [
    "load = False\n",
    "\n",
    "if load:\n",
    "    cnn_model3_litian = load_model('Models/cnn_model3_litian')\n",
    "else:\n",
    "    history = cnn_model3_litian.fit(train_it,\n",
    "                            steps_per_epoch=1395,\n",
    "                            epochs=25,\n",
    "                            validation_data=val_it,\n",
    "                            validation_steps=465)\n",
    "\n",
    "    # Save model\n",
    "    cnn_model3_litian.save('Models/cnn_model3_litian')"
   ]
  },
  {
   "cell_type": "code",
   "execution_count": null,
   "metadata": {},
   "outputs": [],
   "source": [
    "test_it.reset()\n",
    "test_scores = cnn_model3_litian.evaluate(test_it, steps=29759)\n",
    "\n",
    "test_it.reset()\n",
    "prediction = cnn_model3_litian.predict(test_it, steps=29759)\n",
    "prediction = np.argmax(prediction, axis=1)\n",
    "\n",
    "eval_model(prediction, test_it, labels, history)"
   ]
  },
  {
   "cell_type": "code",
   "execution_count": null,
   "metadata": {},
   "outputs": [],
   "source": []
  }
 ]
}